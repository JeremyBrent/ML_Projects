{
 "cells": [
  {
   "cell_type": "markdown",
   "metadata": {
    "toc": true
   },
   "source": [
    "<h1>Table of Contents<span class=\"tocSkip\"></span></h1>\n",
    "<div class=\"toc\"><ul class=\"toc-item\"><li><span><a href=\"#Artificial-Neural-Network\" data-toc-modified-id=\"Artificial-Neural-Network-1\"><span class=\"toc-item-num\">1&nbsp;&nbsp;</span>Artificial Neural Network</a></span><ul class=\"toc-item\"><li><ul class=\"toc-item\"><li><span><a href=\"#Importing-the-libraries\" data-toc-modified-id=\"Importing-the-libraries-1.0.1\"><span class=\"toc-item-num\">1.0.1&nbsp;&nbsp;</span>Importing the libraries</a></span></li></ul></li><li><span><a href=\"#Part-1---Data-Preprocessing\" data-toc-modified-id=\"Part-1---Data-Preprocessing-1.1\"><span class=\"toc-item-num\">1.1&nbsp;&nbsp;</span>Part 1 - Data Preprocessing</a></span><ul class=\"toc-item\"><li><span><a href=\"#Importing-the-dataset\" data-toc-modified-id=\"Importing-the-dataset-1.1.1\"><span class=\"toc-item-num\">1.1.1&nbsp;&nbsp;</span>Importing the dataset</a></span></li><li><span><a href=\"#Encoding-categorical-data\" data-toc-modified-id=\"Encoding-categorical-data-1.1.2\"><span class=\"toc-item-num\">1.1.2&nbsp;&nbsp;</span>Encoding categorical data</a></span></li><li><span><a href=\"#Splitting-the-dataset-into-the-Training-set-and-Test-set\" data-toc-modified-id=\"Splitting-the-dataset-into-the-Training-set-and-Test-set-1.1.3\"><span class=\"toc-item-num\">1.1.3&nbsp;&nbsp;</span>Splitting the dataset into the Training set and Test set</a></span></li><li><span><a href=\"#Feature-Scaling\" data-toc-modified-id=\"Feature-Scaling-1.1.4\"><span class=\"toc-item-num\">1.1.4&nbsp;&nbsp;</span>Feature Scaling</a></span></li></ul></li><li><span><a href=\"#Part-2---Building-the-ANN\" data-toc-modified-id=\"Part-2---Building-the-ANN-1.2\"><span class=\"toc-item-num\">1.2&nbsp;&nbsp;</span>Part 2 - Building the ANN</a></span><ul class=\"toc-item\"><li><span><a href=\"#Initializing-the-ANN\" data-toc-modified-id=\"Initializing-the-ANN-1.2.1\"><span class=\"toc-item-num\">1.2.1&nbsp;&nbsp;</span>Initializing the ANN</a></span></li><li><span><a href=\"#Adding-the-input-layer-and-the-first-hidden-layer\" data-toc-modified-id=\"Adding-the-input-layer-and-the-first-hidden-layer-1.2.2\"><span class=\"toc-item-num\">1.2.2&nbsp;&nbsp;</span>Adding the input layer and the first hidden layer</a></span></li><li><span><a href=\"#Adding-the-second-hidden-layer\" data-toc-modified-id=\"Adding-the-second-hidden-layer-1.2.3\"><span class=\"toc-item-num\">1.2.3&nbsp;&nbsp;</span>Adding the second hidden layer</a></span></li><li><span><a href=\"#Adding-the-output-layer\" data-toc-modified-id=\"Adding-the-output-layer-1.2.4\"><span class=\"toc-item-num\">1.2.4&nbsp;&nbsp;</span>Adding the output layer</a></span></li></ul></li><li><span><a href=\"#Part-3---Training-the-ANN\" data-toc-modified-id=\"Part-3---Training-the-ANN-1.3\"><span class=\"toc-item-num\">1.3&nbsp;&nbsp;</span>Part 3 - Training the ANN</a></span><ul class=\"toc-item\"><li><span><a href=\"#Compiling-the-ANN\" data-toc-modified-id=\"Compiling-the-ANN-1.3.1\"><span class=\"toc-item-num\">1.3.1&nbsp;&nbsp;</span>Compiling the ANN</a></span></li><li><span><a href=\"#Training-the-ANN-on-the-Training-set\" data-toc-modified-id=\"Training-the-ANN-on-the-Training-set-1.3.2\"><span class=\"toc-item-num\">1.3.2&nbsp;&nbsp;</span>Training the ANN on the Training set</a></span></li></ul></li><li><span><a href=\"#Part-4---Making-the-predictions-and-evaluating-the-model\" data-toc-modified-id=\"Part-4---Making-the-predictions-and-evaluating-the-model-1.4\"><span class=\"toc-item-num\">1.4&nbsp;&nbsp;</span>Part 4 - Making the predictions and evaluating the model</a></span><ul class=\"toc-item\"><li><span><a href=\"#Predicting-the-result-of-a-single-observation\" data-toc-modified-id=\"Predicting-the-result-of-a-single-observation-1.4.1\"><span class=\"toc-item-num\">1.4.1&nbsp;&nbsp;</span>Predicting the result of a single observation</a></span></li><li><span><a href=\"#Predicting-the-Test-set-results\" data-toc-modified-id=\"Predicting-the-Test-set-results-1.4.2\"><span class=\"toc-item-num\">1.4.2&nbsp;&nbsp;</span>Predicting the Test set results</a></span></li><li><span><a href=\"#Making-the-Confusion-Matrix\" data-toc-modified-id=\"Making-the-Confusion-Matrix-1.4.3\"><span class=\"toc-item-num\">1.4.3&nbsp;&nbsp;</span>Making the Confusion Matrix</a></span></li></ul></li></ul></li></ul></div>"
   ]
  },
  {
   "cell_type": "markdown",
   "metadata": {
    "colab_type": "text",
    "id": "lP6JLo1tGNBg"
   },
   "source": [
    "# Artificial Neural Network"
   ]
  },
  {
   "cell_type": "markdown",
   "metadata": {
    "colab_type": "text",
    "id": "gWZyYmS_UE_L"
   },
   "source": [
    "### Importing the libraries"
   ]
  },
  {
   "cell_type": "code",
   "execution_count": 8,
   "metadata": {
    "ExecuteTime": {
     "end_time": "2020-09-07T22:34:46.512248Z",
     "start_time": "2020-09-07T22:34:43.235425Z"
    }
   },
   "outputs": [],
   "source": [
    "import pandas as pd\n",
    "import numpy as np\n",
    "import matplotlib.pyplot as plt\n",
    "import tensorflow as tf"
   ]
  },
  {
   "cell_type": "code",
   "execution_count": 9,
   "metadata": {
    "ExecuteTime": {
     "end_time": "2020-09-07T22:36:37.002447Z",
     "start_time": "2020-09-07T22:36:36.998928Z"
    }
   },
   "outputs": [
    {
     "data": {
      "text/plain": [
       "'2.0.0'"
      ]
     },
     "execution_count": 9,
     "metadata": {},
     "output_type": "execute_result"
    }
   ],
   "source": [
    "tf.__version__"
   ]
  },
  {
   "cell_type": "markdown",
   "metadata": {
    "colab_type": "text",
    "id": "1E0Q3aoKUCRX"
   },
   "source": [
    "## Part 1 - Data Preprocessing"
   ]
  },
  {
   "cell_type": "markdown",
   "metadata": {
    "colab_type": "text",
    "id": "cKWAkFVGUU0Z"
   },
   "source": [
    "### Importing the dataset"
   ]
  },
  {
   "cell_type": "code",
   "execution_count": 2,
   "metadata": {
    "ExecuteTime": {
     "end_time": "2020-09-07T22:27:00.159430Z",
     "start_time": "2020-09-07T22:27:00.107057Z"
    }
   },
   "outputs": [
    {
     "data": {
      "text/html": [
       "<div>\n",
       "<style scoped>\n",
       "    .dataframe tbody tr th:only-of-type {\n",
       "        vertical-align: middle;\n",
       "    }\n",
       "\n",
       "    .dataframe tbody tr th {\n",
       "        vertical-align: top;\n",
       "    }\n",
       "\n",
       "    .dataframe thead th {\n",
       "        text-align: right;\n",
       "    }\n",
       "</style>\n",
       "<table border=\"1\" class=\"dataframe\">\n",
       "  <thead>\n",
       "    <tr style=\"text-align: right;\">\n",
       "      <th></th>\n",
       "      <th>RowNumber</th>\n",
       "      <th>CustomerId</th>\n",
       "      <th>Surname</th>\n",
       "      <th>CreditScore</th>\n",
       "      <th>Geography</th>\n",
       "      <th>Gender</th>\n",
       "      <th>Age</th>\n",
       "      <th>Tenure</th>\n",
       "      <th>Balance</th>\n",
       "      <th>NumOfProducts</th>\n",
       "      <th>HasCrCard</th>\n",
       "      <th>IsActiveMember</th>\n",
       "      <th>EstimatedSalary</th>\n",
       "      <th>Exited</th>\n",
       "    </tr>\n",
       "  </thead>\n",
       "  <tbody>\n",
       "    <tr>\n",
       "      <th>0</th>\n",
       "      <td>1</td>\n",
       "      <td>15634602</td>\n",
       "      <td>Hargrave</td>\n",
       "      <td>619</td>\n",
       "      <td>France</td>\n",
       "      <td>Female</td>\n",
       "      <td>42</td>\n",
       "      <td>2</td>\n",
       "      <td>0.00</td>\n",
       "      <td>1</td>\n",
       "      <td>1</td>\n",
       "      <td>1</td>\n",
       "      <td>101348.88</td>\n",
       "      <td>1</td>\n",
       "    </tr>\n",
       "    <tr>\n",
       "      <th>1</th>\n",
       "      <td>2</td>\n",
       "      <td>15647311</td>\n",
       "      <td>Hill</td>\n",
       "      <td>608</td>\n",
       "      <td>Spain</td>\n",
       "      <td>Female</td>\n",
       "      <td>41</td>\n",
       "      <td>1</td>\n",
       "      <td>83807.86</td>\n",
       "      <td>1</td>\n",
       "      <td>0</td>\n",
       "      <td>1</td>\n",
       "      <td>112542.58</td>\n",
       "      <td>0</td>\n",
       "    </tr>\n",
       "    <tr>\n",
       "      <th>2</th>\n",
       "      <td>3</td>\n",
       "      <td>15619304</td>\n",
       "      <td>Onio</td>\n",
       "      <td>502</td>\n",
       "      <td>France</td>\n",
       "      <td>Female</td>\n",
       "      <td>42</td>\n",
       "      <td>8</td>\n",
       "      <td>159660.80</td>\n",
       "      <td>3</td>\n",
       "      <td>1</td>\n",
       "      <td>0</td>\n",
       "      <td>113931.57</td>\n",
       "      <td>1</td>\n",
       "    </tr>\n",
       "    <tr>\n",
       "      <th>3</th>\n",
       "      <td>4</td>\n",
       "      <td>15701354</td>\n",
       "      <td>Boni</td>\n",
       "      <td>699</td>\n",
       "      <td>France</td>\n",
       "      <td>Female</td>\n",
       "      <td>39</td>\n",
       "      <td>1</td>\n",
       "      <td>0.00</td>\n",
       "      <td>2</td>\n",
       "      <td>0</td>\n",
       "      <td>0</td>\n",
       "      <td>93826.63</td>\n",
       "      <td>0</td>\n",
       "    </tr>\n",
       "    <tr>\n",
       "      <th>4</th>\n",
       "      <td>5</td>\n",
       "      <td>15737888</td>\n",
       "      <td>Mitchell</td>\n",
       "      <td>850</td>\n",
       "      <td>Spain</td>\n",
       "      <td>Female</td>\n",
       "      <td>43</td>\n",
       "      <td>2</td>\n",
       "      <td>125510.82</td>\n",
       "      <td>1</td>\n",
       "      <td>1</td>\n",
       "      <td>1</td>\n",
       "      <td>79084.10</td>\n",
       "      <td>0</td>\n",
       "    </tr>\n",
       "    <tr>\n",
       "      <th>...</th>\n",
       "      <td>...</td>\n",
       "      <td>...</td>\n",
       "      <td>...</td>\n",
       "      <td>...</td>\n",
       "      <td>...</td>\n",
       "      <td>...</td>\n",
       "      <td>...</td>\n",
       "      <td>...</td>\n",
       "      <td>...</td>\n",
       "      <td>...</td>\n",
       "      <td>...</td>\n",
       "      <td>...</td>\n",
       "      <td>...</td>\n",
       "      <td>...</td>\n",
       "    </tr>\n",
       "    <tr>\n",
       "      <th>9995</th>\n",
       "      <td>9996</td>\n",
       "      <td>15606229</td>\n",
       "      <td>Obijiaku</td>\n",
       "      <td>771</td>\n",
       "      <td>France</td>\n",
       "      <td>Male</td>\n",
       "      <td>39</td>\n",
       "      <td>5</td>\n",
       "      <td>0.00</td>\n",
       "      <td>2</td>\n",
       "      <td>1</td>\n",
       "      <td>0</td>\n",
       "      <td>96270.64</td>\n",
       "      <td>0</td>\n",
       "    </tr>\n",
       "    <tr>\n",
       "      <th>9996</th>\n",
       "      <td>9997</td>\n",
       "      <td>15569892</td>\n",
       "      <td>Johnstone</td>\n",
       "      <td>516</td>\n",
       "      <td>France</td>\n",
       "      <td>Male</td>\n",
       "      <td>35</td>\n",
       "      <td>10</td>\n",
       "      <td>57369.61</td>\n",
       "      <td>1</td>\n",
       "      <td>1</td>\n",
       "      <td>1</td>\n",
       "      <td>101699.77</td>\n",
       "      <td>0</td>\n",
       "    </tr>\n",
       "    <tr>\n",
       "      <th>9997</th>\n",
       "      <td>9998</td>\n",
       "      <td>15584532</td>\n",
       "      <td>Liu</td>\n",
       "      <td>709</td>\n",
       "      <td>France</td>\n",
       "      <td>Female</td>\n",
       "      <td>36</td>\n",
       "      <td>7</td>\n",
       "      <td>0.00</td>\n",
       "      <td>1</td>\n",
       "      <td>0</td>\n",
       "      <td>1</td>\n",
       "      <td>42085.58</td>\n",
       "      <td>1</td>\n",
       "    </tr>\n",
       "    <tr>\n",
       "      <th>9998</th>\n",
       "      <td>9999</td>\n",
       "      <td>15682355</td>\n",
       "      <td>Sabbatini</td>\n",
       "      <td>772</td>\n",
       "      <td>Germany</td>\n",
       "      <td>Male</td>\n",
       "      <td>42</td>\n",
       "      <td>3</td>\n",
       "      <td>75075.31</td>\n",
       "      <td>2</td>\n",
       "      <td>1</td>\n",
       "      <td>0</td>\n",
       "      <td>92888.52</td>\n",
       "      <td>1</td>\n",
       "    </tr>\n",
       "    <tr>\n",
       "      <th>9999</th>\n",
       "      <td>10000</td>\n",
       "      <td>15628319</td>\n",
       "      <td>Walker</td>\n",
       "      <td>792</td>\n",
       "      <td>France</td>\n",
       "      <td>Female</td>\n",
       "      <td>28</td>\n",
       "      <td>4</td>\n",
       "      <td>130142.79</td>\n",
       "      <td>1</td>\n",
       "      <td>1</td>\n",
       "      <td>0</td>\n",
       "      <td>38190.78</td>\n",
       "      <td>0</td>\n",
       "    </tr>\n",
       "  </tbody>\n",
       "</table>\n",
       "<p>10000 rows × 14 columns</p>\n",
       "</div>"
      ],
      "text/plain": [
       "      RowNumber  CustomerId    Surname  CreditScore Geography  Gender  Age  \\\n",
       "0             1    15634602   Hargrave          619    France  Female   42   \n",
       "1             2    15647311       Hill          608     Spain  Female   41   \n",
       "2             3    15619304       Onio          502    France  Female   42   \n",
       "3             4    15701354       Boni          699    France  Female   39   \n",
       "4             5    15737888   Mitchell          850     Spain  Female   43   \n",
       "...         ...         ...        ...          ...       ...     ...  ...   \n",
       "9995       9996    15606229   Obijiaku          771    France    Male   39   \n",
       "9996       9997    15569892  Johnstone          516    France    Male   35   \n",
       "9997       9998    15584532        Liu          709    France  Female   36   \n",
       "9998       9999    15682355  Sabbatini          772   Germany    Male   42   \n",
       "9999      10000    15628319     Walker          792    France  Female   28   \n",
       "\n",
       "      Tenure    Balance  NumOfProducts  HasCrCard  IsActiveMember  \\\n",
       "0          2       0.00              1          1               1   \n",
       "1          1   83807.86              1          0               1   \n",
       "2          8  159660.80              3          1               0   \n",
       "3          1       0.00              2          0               0   \n",
       "4          2  125510.82              1          1               1   \n",
       "...      ...        ...            ...        ...             ...   \n",
       "9995       5       0.00              2          1               0   \n",
       "9996      10   57369.61              1          1               1   \n",
       "9997       7       0.00              1          0               1   \n",
       "9998       3   75075.31              2          1               0   \n",
       "9999       4  130142.79              1          1               0   \n",
       "\n",
       "      EstimatedSalary  Exited  \n",
       "0           101348.88       1  \n",
       "1           112542.58       0  \n",
       "2           113931.57       1  \n",
       "3            93826.63       0  \n",
       "4            79084.10       0  \n",
       "...               ...     ...  \n",
       "9995         96270.64       0  \n",
       "9996        101699.77       0  \n",
       "9997         42085.58       1  \n",
       "9998         92888.52       1  \n",
       "9999         38190.78       0  \n",
       "\n",
       "[10000 rows x 14 columns]"
      ]
     },
     "execution_count": 2,
     "metadata": {},
     "output_type": "execute_result"
    }
   ],
   "source": [
    "data_df = pd.read_csv(\"Churn_Modelling.csv\")\n",
    "data_df"
   ]
  },
  {
   "cell_type": "code",
   "execution_count": 32,
   "metadata": {
    "ExecuteTime": {
     "end_time": "2020-09-07T23:12:36.999044Z",
     "start_time": "2020-09-07T23:12:36.994933Z"
    }
   },
   "outputs": [],
   "source": [
    "inputs = data_df.iloc[:,3:-1]\n",
    "target = data_df.iloc[:,-1].values"
   ]
  },
  {
   "cell_type": "markdown",
   "metadata": {
    "colab_type": "text",
    "id": "N6bQ0UgSU-NJ"
   },
   "source": [
    "### Encoding categorical data"
   ]
  },
  {
   "cell_type": "markdown",
   "metadata": {
    "colab_type": "text",
    "id": "le5MJreAbW52"
   },
   "source": [
    "Label Encoding the \"Gender\" column"
   ]
  },
  {
   "cell_type": "code",
   "execution_count": 33,
   "metadata": {
    "ExecuteTime": {
     "end_time": "2020-09-07T23:12:38.778995Z",
     "start_time": "2020-09-07T23:12:38.773973Z"
    }
   },
   "outputs": [],
   "source": [
    "from sklearn.preprocessing import LabelEncoder\n",
    "le = LabelEncoder()\n",
    "inputs.Gender = le.fit_transform(inputs.Gender)"
   ]
  },
  {
   "cell_type": "code",
   "execution_count": 34,
   "metadata": {
    "ExecuteTime": {
     "end_time": "2020-09-07T23:12:38.973528Z",
     "start_time": "2020-09-07T23:12:38.953720Z"
    }
   },
   "outputs": [
    {
     "data": {
      "text/html": [
       "<div>\n",
       "<style scoped>\n",
       "    .dataframe tbody tr th:only-of-type {\n",
       "        vertical-align: middle;\n",
       "    }\n",
       "\n",
       "    .dataframe tbody tr th {\n",
       "        vertical-align: top;\n",
       "    }\n",
       "\n",
       "    .dataframe thead th {\n",
       "        text-align: right;\n",
       "    }\n",
       "</style>\n",
       "<table border=\"1\" class=\"dataframe\">\n",
       "  <thead>\n",
       "    <tr style=\"text-align: right;\">\n",
       "      <th></th>\n",
       "      <th>CreditScore</th>\n",
       "      <th>Geography</th>\n",
       "      <th>Gender</th>\n",
       "      <th>Age</th>\n",
       "      <th>Tenure</th>\n",
       "      <th>Balance</th>\n",
       "      <th>NumOfProducts</th>\n",
       "      <th>HasCrCard</th>\n",
       "      <th>IsActiveMember</th>\n",
       "      <th>EstimatedSalary</th>\n",
       "    </tr>\n",
       "  </thead>\n",
       "  <tbody>\n",
       "    <tr>\n",
       "      <th>0</th>\n",
       "      <td>619</td>\n",
       "      <td>France</td>\n",
       "      <td>0</td>\n",
       "      <td>42</td>\n",
       "      <td>2</td>\n",
       "      <td>0.00</td>\n",
       "      <td>1</td>\n",
       "      <td>1</td>\n",
       "      <td>1</td>\n",
       "      <td>101348.88</td>\n",
       "    </tr>\n",
       "    <tr>\n",
       "      <th>1</th>\n",
       "      <td>608</td>\n",
       "      <td>Spain</td>\n",
       "      <td>0</td>\n",
       "      <td>41</td>\n",
       "      <td>1</td>\n",
       "      <td>83807.86</td>\n",
       "      <td>1</td>\n",
       "      <td>0</td>\n",
       "      <td>1</td>\n",
       "      <td>112542.58</td>\n",
       "    </tr>\n",
       "    <tr>\n",
       "      <th>2</th>\n",
       "      <td>502</td>\n",
       "      <td>France</td>\n",
       "      <td>0</td>\n",
       "      <td>42</td>\n",
       "      <td>8</td>\n",
       "      <td>159660.80</td>\n",
       "      <td>3</td>\n",
       "      <td>1</td>\n",
       "      <td>0</td>\n",
       "      <td>113931.57</td>\n",
       "    </tr>\n",
       "    <tr>\n",
       "      <th>3</th>\n",
       "      <td>699</td>\n",
       "      <td>France</td>\n",
       "      <td>0</td>\n",
       "      <td>39</td>\n",
       "      <td>1</td>\n",
       "      <td>0.00</td>\n",
       "      <td>2</td>\n",
       "      <td>0</td>\n",
       "      <td>0</td>\n",
       "      <td>93826.63</td>\n",
       "    </tr>\n",
       "    <tr>\n",
       "      <th>4</th>\n",
       "      <td>850</td>\n",
       "      <td>Spain</td>\n",
       "      <td>0</td>\n",
       "      <td>43</td>\n",
       "      <td>2</td>\n",
       "      <td>125510.82</td>\n",
       "      <td>1</td>\n",
       "      <td>1</td>\n",
       "      <td>1</td>\n",
       "      <td>79084.10</td>\n",
       "    </tr>\n",
       "    <tr>\n",
       "      <th>...</th>\n",
       "      <td>...</td>\n",
       "      <td>...</td>\n",
       "      <td>...</td>\n",
       "      <td>...</td>\n",
       "      <td>...</td>\n",
       "      <td>...</td>\n",
       "      <td>...</td>\n",
       "      <td>...</td>\n",
       "      <td>...</td>\n",
       "      <td>...</td>\n",
       "    </tr>\n",
       "    <tr>\n",
       "      <th>9995</th>\n",
       "      <td>771</td>\n",
       "      <td>France</td>\n",
       "      <td>1</td>\n",
       "      <td>39</td>\n",
       "      <td>5</td>\n",
       "      <td>0.00</td>\n",
       "      <td>2</td>\n",
       "      <td>1</td>\n",
       "      <td>0</td>\n",
       "      <td>96270.64</td>\n",
       "    </tr>\n",
       "    <tr>\n",
       "      <th>9996</th>\n",
       "      <td>516</td>\n",
       "      <td>France</td>\n",
       "      <td>1</td>\n",
       "      <td>35</td>\n",
       "      <td>10</td>\n",
       "      <td>57369.61</td>\n",
       "      <td>1</td>\n",
       "      <td>1</td>\n",
       "      <td>1</td>\n",
       "      <td>101699.77</td>\n",
       "    </tr>\n",
       "    <tr>\n",
       "      <th>9997</th>\n",
       "      <td>709</td>\n",
       "      <td>France</td>\n",
       "      <td>0</td>\n",
       "      <td>36</td>\n",
       "      <td>7</td>\n",
       "      <td>0.00</td>\n",
       "      <td>1</td>\n",
       "      <td>0</td>\n",
       "      <td>1</td>\n",
       "      <td>42085.58</td>\n",
       "    </tr>\n",
       "    <tr>\n",
       "      <th>9998</th>\n",
       "      <td>772</td>\n",
       "      <td>Germany</td>\n",
       "      <td>1</td>\n",
       "      <td>42</td>\n",
       "      <td>3</td>\n",
       "      <td>75075.31</td>\n",
       "      <td>2</td>\n",
       "      <td>1</td>\n",
       "      <td>0</td>\n",
       "      <td>92888.52</td>\n",
       "    </tr>\n",
       "    <tr>\n",
       "      <th>9999</th>\n",
       "      <td>792</td>\n",
       "      <td>France</td>\n",
       "      <td>0</td>\n",
       "      <td>28</td>\n",
       "      <td>4</td>\n",
       "      <td>130142.79</td>\n",
       "      <td>1</td>\n",
       "      <td>1</td>\n",
       "      <td>0</td>\n",
       "      <td>38190.78</td>\n",
       "    </tr>\n",
       "  </tbody>\n",
       "</table>\n",
       "<p>10000 rows × 10 columns</p>\n",
       "</div>"
      ],
      "text/plain": [
       "      CreditScore Geography  Gender  Age  Tenure    Balance  NumOfProducts  \\\n",
       "0             619    France       0   42       2       0.00              1   \n",
       "1             608     Spain       0   41       1   83807.86              1   \n",
       "2             502    France       0   42       8  159660.80              3   \n",
       "3             699    France       0   39       1       0.00              2   \n",
       "4             850     Spain       0   43       2  125510.82              1   \n",
       "...           ...       ...     ...  ...     ...        ...            ...   \n",
       "9995          771    France       1   39       5       0.00              2   \n",
       "9996          516    France       1   35      10   57369.61              1   \n",
       "9997          709    France       0   36       7       0.00              1   \n",
       "9998          772   Germany       1   42       3   75075.31              2   \n",
       "9999          792    France       0   28       4  130142.79              1   \n",
       "\n",
       "      HasCrCard  IsActiveMember  EstimatedSalary  \n",
       "0             1               1        101348.88  \n",
       "1             0               1        112542.58  \n",
       "2             1               0        113931.57  \n",
       "3             0               0         93826.63  \n",
       "4             1               1         79084.10  \n",
       "...         ...             ...              ...  \n",
       "9995          1               0         96270.64  \n",
       "9996          1               1        101699.77  \n",
       "9997          0               1         42085.58  \n",
       "9998          1               0         92888.52  \n",
       "9999          1               0         38190.78  \n",
       "\n",
       "[10000 rows x 10 columns]"
      ]
     },
     "execution_count": 34,
     "metadata": {},
     "output_type": "execute_result"
    }
   ],
   "source": [
    "inputs"
   ]
  },
  {
   "cell_type": "markdown",
   "metadata": {
    "colab_type": "text",
    "id": "CUxGZezpbMcb"
   },
   "source": [
    "One Hot Encoding the \"Geography\" column"
   ]
  },
  {
   "cell_type": "code",
   "execution_count": 51,
   "metadata": {
    "ExecuteTime": {
     "end_time": "2020-09-07T23:20:59.648659Z",
     "start_time": "2020-09-07T23:20:59.639080Z"
    }
   },
   "outputs": [
    {
     "data": {
      "text/plain": [
       "array([1.0000000e+00, 0.0000000e+00, 1.0000000e+00, 1.0000000e+00,\n",
       "       1.0000000e+00, 1.0000000e+00, 1.0000000e+00, 0.0000000e+00,\n",
       "       6.1900000e+02, 0.0000000e+00, 4.2000000e+01, 2.0000000e+00,\n",
       "       0.0000000e+00, 1.0000000e+00, 1.0000000e+00, 1.0000000e+00,\n",
       "       1.0134888e+05])"
      ]
     },
     "execution_count": 51,
     "metadata": {},
     "output_type": "execute_result"
    }
   ],
   "source": [
    "from sklearn.compose import ColumnTransformer\n",
    "from sklearn.preprocessing import OneHotEncoder\n",
    "ct = ColumnTransformer(transformers = [('encoder',OneHotEncoder(),[1])], remainder = \"passthrough\")\n",
    "inputs = ct.fit_transform(inputs)\n",
    "inputs[0]\n"
   ]
  },
  {
   "cell_type": "markdown",
   "metadata": {
    "colab_type": "text",
    "id": "vHol938cW8zd"
   },
   "source": [
    "### Splitting the dataset into the Training set and Test set"
   ]
  },
  {
   "cell_type": "code",
   "execution_count": 36,
   "metadata": {
    "ExecuteTime": {
     "end_time": "2020-09-07T23:12:40.738245Z",
     "start_time": "2020-09-07T23:12:40.733740Z"
    }
   },
   "outputs": [],
   "source": [
    "from sklearn.model_selection import train_test_split\n",
    "x_train, x_test, y_train, y_test = train_test_split(inputs, target, test_size = .2, random_state=0)"
   ]
  },
  {
   "cell_type": "markdown",
   "metadata": {
    "colab_type": "text",
    "id": "RE_FcHyfV3TQ"
   },
   "source": [
    "### Feature Scaling"
   ]
  },
  {
   "cell_type": "code",
   "execution_count": 56,
   "metadata": {
    "ExecuteTime": {
     "end_time": "2020-09-07T23:38:45.729659Z",
     "start_time": "2020-09-07T23:38:45.723758Z"
    }
   },
   "outputs": [],
   "source": [
    "from sklearn.preprocessing import StandardScaler\n",
    "sc = StandardScaler()\n",
    "x_train_scaled = sc.fit_transform(x_train)\n",
    "x_test_scaled = sc.transform(x_test)"
   ]
  },
  {
   "cell_type": "markdown",
   "metadata": {
    "colab_type": "text",
    "id": "-zfEzkRVXIwF"
   },
   "source": [
    "## Part 2 - Building the ANN"
   ]
  },
  {
   "cell_type": "markdown",
   "metadata": {
    "colab_type": "text",
    "id": "KvdeScabXtlB"
   },
   "source": [
    "### Initializing the ANN"
   ]
  },
  {
   "cell_type": "code",
   "execution_count": 38,
   "metadata": {
    "ExecuteTime": {
     "end_time": "2020-09-07T23:12:42.324441Z",
     "start_time": "2020-09-07T23:12:42.321534Z"
    }
   },
   "outputs": [],
   "source": [
    "ann = tf.keras.models.Sequential()"
   ]
  },
  {
   "cell_type": "markdown",
   "metadata": {
    "colab_type": "text",
    "id": "rP6urV6SX7kS"
   },
   "source": [
    "### Adding the input layer and the first hidden layer"
   ]
  },
  {
   "cell_type": "code",
   "execution_count": 39,
   "metadata": {
    "ExecuteTime": {
     "end_time": "2020-09-07T23:12:42.680967Z",
     "start_time": "2020-09-07T23:12:42.677164Z"
    }
   },
   "outputs": [],
   "source": [
    "ann.add(tf.keras.layers.Dense(units=6,activation=\"relu\"))"
   ]
  },
  {
   "cell_type": "markdown",
   "metadata": {
    "colab_type": "text",
    "id": "BELWAc_8YJze"
   },
   "source": [
    "### Adding the second hidden layer"
   ]
  },
  {
   "cell_type": "code",
   "execution_count": 40,
   "metadata": {
    "ExecuteTime": {
     "end_time": "2020-09-07T23:12:43.091360Z",
     "start_time": "2020-09-07T23:12:43.087859Z"
    }
   },
   "outputs": [],
   "source": [
    "ann.add(tf.keras.layers.Dense(units=6,activation=\"relu\"))"
   ]
  },
  {
   "cell_type": "markdown",
   "metadata": {
    "colab_type": "text",
    "id": "OyNEe6RXYcU4"
   },
   "source": [
    "### Adding the output layer"
   ]
  },
  {
   "cell_type": "code",
   "execution_count": 41,
   "metadata": {
    "ExecuteTime": {
     "end_time": "2020-09-07T23:12:44.292862Z",
     "start_time": "2020-09-07T23:12:44.289470Z"
    }
   },
   "outputs": [],
   "source": [
    "## Non-binary output, activation = softmax\n",
    "ann.add(tf.keras.layers.Dense(units=1,activation=\"sigmoid\"))"
   ]
  },
  {
   "cell_type": "markdown",
   "metadata": {
    "colab_type": "text",
    "id": "JT4u2S1_Y4WG"
   },
   "source": [
    "## Part 3 - Training the ANN"
   ]
  },
  {
   "cell_type": "markdown",
   "metadata": {
    "colab_type": "text",
    "id": "8GWlJChhY_ZI"
   },
   "source": [
    "### Compiling the ANN"
   ]
  },
  {
   "cell_type": "code",
   "execution_count": 42,
   "metadata": {
    "ExecuteTime": {
     "end_time": "2020-09-07T23:12:45.555787Z",
     "start_time": "2020-09-07T23:12:45.552679Z"
    }
   },
   "outputs": [],
   "source": [
    "## Non-binary output, loss = categorical_crossentropy\n",
    "ann.compile(optimizer = 'adam', loss= 'binary_crossentropy', metrics = ['accuracy'])"
   ]
  },
  {
   "cell_type": "markdown",
   "metadata": {
    "colab_type": "text",
    "id": "0QR_G5u7ZLSM"
   },
   "source": [
    "### Training the ANN on the Training set"
   ]
  },
  {
   "cell_type": "code",
   "execution_count": 43,
   "metadata": {
    "ExecuteTime": {
     "end_time": "2020-09-07T23:13:24.878940Z",
     "start_time": "2020-09-07T23:12:46.362970Z"
    }
   },
   "outputs": [
    {
     "name": "stdout",
     "output_type": "stream",
     "text": [
      "Train on 8000 samples\n",
      "Epoch 1/100\n",
      "8000/8000 [==============================] - 1s 140us/sample - loss: 0.6053 - accuracy: 0.6747\n",
      "Epoch 2/100\n",
      "8000/8000 [==============================] - 0s 41us/sample - loss: 0.4599 - accuracy: 0.7960\n",
      "Epoch 3/100\n",
      "8000/8000 [==============================] - 0s 42us/sample - loss: 0.4451 - accuracy: 0.7989\n",
      "Epoch 4/100\n",
      "8000/8000 [==============================] - 0s 41us/sample - loss: 0.4384 - accuracy: 0.8025\n",
      "Epoch 5/100\n",
      "8000/8000 [==============================] - 0s 40us/sample - loss: 0.4340 - accuracy: 0.8046\n",
      "Epoch 6/100\n",
      "8000/8000 [==============================] - 0s 41us/sample - loss: 0.4303 - accuracy: 0.8059\n",
      "Epoch 7/100\n",
      "8000/8000 [==============================] - 0s 41us/sample - loss: 0.4272 - accuracy: 0.8077\n",
      "Epoch 8/100\n",
      "8000/8000 [==============================] - 0s 41us/sample - loss: 0.4243 - accuracy: 0.8104\n",
      "Epoch 9/100\n",
      "8000/8000 [==============================] - 0s 41us/sample - loss: 0.4215 - accuracy: 0.8111\n",
      "Epoch 10/100\n",
      "8000/8000 [==============================] - 0s 41us/sample - loss: 0.4187 - accuracy: 0.8160\n",
      "Epoch 11/100\n",
      "8000/8000 [==============================] - 0s 41us/sample - loss: 0.4161 - accuracy: 0.8185\n",
      "Epoch 12/100\n",
      "8000/8000 [==============================] - 0s 42us/sample - loss: 0.4137 - accuracy: 0.8200\n",
      "Epoch 13/100\n",
      "8000/8000 [==============================] - 0s 42us/sample - loss: 0.4112 - accuracy: 0.8213\n",
      "Epoch 14/100\n",
      "8000/8000 [==============================] - 0s 46us/sample - loss: 0.4082 - accuracy: 0.8223\n",
      "Epoch 15/100\n",
      "8000/8000 [==============================] - 0s 42us/sample - loss: 0.4052 - accuracy: 0.8215\n",
      "Epoch 16/100\n",
      "8000/8000 [==============================] - 0s 42us/sample - loss: 0.4011 - accuracy: 0.8229\n",
      "Epoch 17/100\n",
      "8000/8000 [==============================] - 0s 42us/sample - loss: 0.3951 - accuracy: 0.8230\n",
      "Epoch 18/100\n",
      "8000/8000 [==============================] - 0s 42us/sample - loss: 0.3882 - accuracy: 0.8314\n",
      "Epoch 19/100\n",
      "8000/8000 [==============================] - 0s 43us/sample - loss: 0.3800 - accuracy: 0.8371\n",
      "Epoch 20/100\n",
      "8000/8000 [==============================] - 0s 49us/sample - loss: 0.3725 - accuracy: 0.8431\n",
      "Epoch 21/100\n",
      "8000/8000 [==============================] - 0s 43us/sample - loss: 0.3671 - accuracy: 0.8471\n",
      "Epoch 22/100\n",
      "8000/8000 [==============================] - 0s 46us/sample - loss: 0.3638 - accuracy: 0.8500\n",
      "Epoch 23/100\n",
      "8000/8000 [==============================] - 0s 43us/sample - loss: 0.3609 - accuracy: 0.8528\n",
      "Epoch 24/100\n",
      "8000/8000 [==============================] - 0s 44us/sample - loss: 0.3582 - accuracy: 0.8530\n",
      "Epoch 25/100\n",
      "8000/8000 [==============================] - 0s 43us/sample - loss: 0.3562 - accuracy: 0.8537\n",
      "Epoch 26/100\n",
      "8000/8000 [==============================] - 0s 44us/sample - loss: 0.3552 - accuracy: 0.8564\n",
      "Epoch 27/100\n",
      "8000/8000 [==============================] - 0s 45us/sample - loss: 0.3542 - accuracy: 0.8558\n",
      "Epoch 28/100\n",
      "8000/8000 [==============================] - 0s 47us/sample - loss: 0.3525 - accuracy: 0.8584\n",
      "Epoch 29/100\n",
      "8000/8000 [==============================] - 0s 45us/sample - loss: 0.3515 - accuracy: 0.8570\n",
      "Epoch 30/100\n",
      "8000/8000 [==============================] - 0s 45us/sample - loss: 0.3510 - accuracy: 0.8564\n",
      "Epoch 31/100\n",
      "8000/8000 [==============================] - 0s 45us/sample - loss: 0.3505 - accuracy: 0.8565\n",
      "Epoch 32/100\n",
      "8000/8000 [==============================] - 0s 45us/sample - loss: 0.3504 - accuracy: 0.8593\n",
      "Epoch 33/100\n",
      "8000/8000 [==============================] - 0s 50us/sample - loss: 0.3494 - accuracy: 0.8584\n",
      "Epoch 34/100\n",
      "8000/8000 [==============================] - 0s 46us/sample - loss: 0.3496 - accuracy: 0.8570\n",
      "Epoch 35/100\n",
      "8000/8000 [==============================] - 0s 46us/sample - loss: 0.3487 - accuracy: 0.8590\n",
      "Epoch 36/100\n",
      "8000/8000 [==============================] - 0s 46us/sample - loss: 0.3490 - accuracy: 0.8569\n",
      "Epoch 37/100\n",
      "8000/8000 [==============================] - 0s 47us/sample - loss: 0.3486 - accuracy: 0.8590\n",
      "Epoch 38/100\n",
      "8000/8000 [==============================] - 0s 45us/sample - loss: 0.3485 - accuracy: 0.8597\n",
      "Epoch 39/100\n",
      "8000/8000 [==============================] - 0s 45us/sample - loss: 0.3480 - accuracy: 0.8602\n",
      "Epoch 40/100\n",
      "8000/8000 [==============================] - 0s 46us/sample - loss: 0.3476 - accuracy: 0.8593\n",
      "Epoch 41/100\n",
      "8000/8000 [==============================] - 0s 46us/sample - loss: 0.3479 - accuracy: 0.8583\n",
      "Epoch 42/100\n",
      "8000/8000 [==============================] - 0s 46us/sample - loss: 0.3474 - accuracy: 0.8587\n",
      "Epoch 43/100\n",
      "8000/8000 [==============================] - 0s 46us/sample - loss: 0.3471 - accuracy: 0.8609\n",
      "Epoch 44/100\n",
      "8000/8000 [==============================] - 0s 46us/sample - loss: 0.3474 - accuracy: 0.8586\n",
      "Epoch 45/100\n",
      "8000/8000 [==============================] - 0s 46us/sample - loss: 0.3474 - accuracy: 0.8594\n",
      "Epoch 46/100\n",
      "8000/8000 [==============================] - 0s 46us/sample - loss: 0.3471 - accuracy: 0.8590\n",
      "Epoch 47/100\n",
      "8000/8000 [==============================] - 0s 46us/sample - loss: 0.3463 - accuracy: 0.8595\n",
      "Epoch 48/100\n",
      "8000/8000 [==============================] - 0s 46us/sample - loss: 0.3460 - accuracy: 0.8609\n",
      "Epoch 49/100\n",
      "8000/8000 [==============================] - 0s 46us/sample - loss: 0.3464 - accuracy: 0.8600\n",
      "Epoch 50/100\n",
      "8000/8000 [==============================] - 0s 46us/sample - loss: 0.3462 - accuracy: 0.8586\n",
      "Epoch 51/100\n",
      "8000/8000 [==============================] - 0s 46us/sample - loss: 0.3466 - accuracy: 0.8584\n",
      "Epoch 52/100\n",
      "8000/8000 [==============================] - 0s 46us/sample - loss: 0.3460 - accuracy: 0.8587\n",
      "Epoch 53/100\n",
      "8000/8000 [==============================] - 0s 47us/sample - loss: 0.3462 - accuracy: 0.8605\n",
      "Epoch 54/100\n",
      "8000/8000 [==============================] - 0s 46us/sample - loss: 0.3455 - accuracy: 0.8583\n",
      "Epoch 55/100\n",
      "8000/8000 [==============================] - 0s 50us/sample - loss: 0.3457 - accuracy: 0.8589\n",
      "Epoch 56/100\n",
      "8000/8000 [==============================] - 0s 47us/sample - loss: 0.3456 - accuracy: 0.8616\n",
      "Epoch 57/100\n",
      "8000/8000 [==============================] - 0s 48us/sample - loss: 0.3459 - accuracy: 0.8600\n",
      "Epoch 58/100\n",
      "8000/8000 [==============================] - 0s 49us/sample - loss: 0.3451 - accuracy: 0.8597\n",
      "Epoch 59/100\n",
      "8000/8000 [==============================] - 0s 48us/sample - loss: 0.3454 - accuracy: 0.8601\n",
      "Epoch 60/100\n",
      "8000/8000 [==============================] - 0s 50us/sample - loss: 0.3451 - accuracy: 0.8614\n",
      "Epoch 61/100\n",
      "8000/8000 [==============================] - 0s 48us/sample - loss: 0.3450 - accuracy: 0.8602\n",
      "Epoch 62/100\n",
      "8000/8000 [==============================] - 0s 49us/sample - loss: 0.3452 - accuracy: 0.8608\n",
      "Epoch 63/100\n",
      "8000/8000 [==============================] - 0s 52us/sample - loss: 0.3453 - accuracy: 0.8599\n",
      "Epoch 64/100\n",
      "8000/8000 [==============================] - 0s 48us/sample - loss: 0.3447 - accuracy: 0.8608\n",
      "Epoch 65/100\n",
      "8000/8000 [==============================] - 0s 50us/sample - loss: 0.3444 - accuracy: 0.8606\n",
      "Epoch 66/100\n",
      "8000/8000 [==============================] - 0s 47us/sample - loss: 0.3447 - accuracy: 0.8601\n",
      "Epoch 67/100\n",
      "8000/8000 [==============================] - 0s 50us/sample - loss: 0.3448 - accuracy: 0.8605\n",
      "Epoch 68/100\n",
      "8000/8000 [==============================] - 0s 49us/sample - loss: 0.3444 - accuracy: 0.8609\n",
      "Epoch 69/100\n",
      "8000/8000 [==============================] - 0s 51us/sample - loss: 0.3448 - accuracy: 0.8608\n",
      "Epoch 70/100\n",
      "8000/8000 [==============================] - 0s 48us/sample - loss: 0.3448 - accuracy: 0.8626\n",
      "Epoch 71/100\n",
      "8000/8000 [==============================] - 0s 52us/sample - loss: 0.3443 - accuracy: 0.8589\n",
      "Epoch 72/100\n",
      "8000/8000 [==============================] - 0s 50us/sample - loss: 0.3442 - accuracy: 0.8612\n",
      "Epoch 73/100\n",
      "8000/8000 [==============================] - 0s 53us/sample - loss: 0.3441 - accuracy: 0.8594\n",
      "Epoch 74/100\n",
      "8000/8000 [==============================] - 0s 49us/sample - loss: 0.3441 - accuracy: 0.8602\n",
      "Epoch 75/100\n",
      "8000/8000 [==============================] - 0s 50us/sample - loss: 0.3440 - accuracy: 0.8612\n",
      "Epoch 76/100\n",
      "8000/8000 [==============================] - 0s 50us/sample - loss: 0.3447 - accuracy: 0.8602\n",
      "Epoch 77/100\n"
     ]
    },
    {
     "name": "stdout",
     "output_type": "stream",
     "text": [
      "8000/8000 [==============================] - 0s 50us/sample - loss: 0.3445 - accuracy: 0.8605\n",
      "Epoch 78/100\n",
      "8000/8000 [==============================] - 0s 48us/sample - loss: 0.3437 - accuracy: 0.8605\n",
      "Epoch 79/100\n",
      "8000/8000 [==============================] - 0s 49us/sample - loss: 0.3438 - accuracy: 0.8601\n",
      "Epoch 80/100\n",
      "8000/8000 [==============================] - 0s 50us/sample - loss: 0.3436 - accuracy: 0.8606\n",
      "Epoch 81/100\n",
      "8000/8000 [==============================] - 0s 48us/sample - loss: 0.3442 - accuracy: 0.8600\n",
      "Epoch 82/100\n",
      "8000/8000 [==============================] - 0s 51us/sample - loss: 0.3438 - accuracy: 0.8631\n",
      "Epoch 83/100\n",
      "8000/8000 [==============================] - 0s 51us/sample - loss: 0.3438 - accuracy: 0.8606\n",
      "Epoch 84/100\n",
      "8000/8000 [==============================] - 0s 54us/sample - loss: 0.3436 - accuracy: 0.8589\n",
      "Epoch 85/100\n",
      "8000/8000 [==============================] - 0s 54us/sample - loss: 0.3431 - accuracy: 0.8619\n",
      "Epoch 86/100\n",
      "8000/8000 [==============================] - 0s 52us/sample - loss: 0.3433 - accuracy: 0.8616\n",
      "Epoch 87/100\n",
      "8000/8000 [==============================] - 0s 48us/sample - loss: 0.3436 - accuracy: 0.8602\n",
      "Epoch 88/100\n",
      "8000/8000 [==============================] - 0s 52us/sample - loss: 0.3433 - accuracy: 0.8612\n",
      "Epoch 89/100\n",
      "8000/8000 [==============================] - 0s 49us/sample - loss: 0.3431 - accuracy: 0.8600\n",
      "Epoch 90/100\n",
      "8000/8000 [==============================] - 0s 54us/sample - loss: 0.3431 - accuracy: 0.8594\n",
      "Epoch 91/100\n",
      "8000/8000 [==============================] - 0s 53us/sample - loss: 0.3424 - accuracy: 0.8606\n",
      "Epoch 92/100\n",
      "8000/8000 [==============================] - 0s 52us/sample - loss: 0.3429 - accuracy: 0.8604\n",
      "Epoch 93/100\n",
      "8000/8000 [==============================] - 0s 50us/sample - loss: 0.3429 - accuracy: 0.8606\n",
      "Epoch 94/100\n",
      "8000/8000 [==============================] - 0s 50us/sample - loss: 0.3426 - accuracy: 0.8604\n",
      "Epoch 95/100\n",
      "8000/8000 [==============================] - 0s 48us/sample - loss: 0.3427 - accuracy: 0.8619\n",
      "Epoch 96/100\n",
      "8000/8000 [==============================] - 0s 48us/sample - loss: 0.3425 - accuracy: 0.8612\n",
      "Epoch 97/100\n",
      "8000/8000 [==============================] - 0s 48us/sample - loss: 0.3426 - accuracy: 0.8604\n",
      "Epoch 98/100\n",
      "8000/8000 [==============================] - 0s 49us/sample - loss: 0.3423 - accuracy: 0.8609\n",
      "Epoch 99/100\n",
      "8000/8000 [==============================] - 0s 52us/sample - loss: 0.3428 - accuracy: 0.8626\n",
      "Epoch 100/100\n",
      "8000/8000 [==============================] - 0s 50us/sample - loss: 0.3423 - accuracy: 0.8605\n"
     ]
    },
    {
     "data": {
      "text/plain": [
       "<tensorflow.python.keras.callbacks.History at 0x7f9650bd1a20>"
      ]
     },
     "execution_count": 43,
     "metadata": {},
     "output_type": "execute_result"
    }
   ],
   "source": [
    "ann.fit(x_train_scaled, y_train, epochs = 100, batch_size = 32)"
   ]
  },
  {
   "cell_type": "markdown",
   "metadata": {
    "colab_type": "text",
    "id": "tJj5k2MxZga3"
   },
   "source": [
    "## Part 4 - Making the predictions and evaluating the model"
   ]
  },
  {
   "cell_type": "markdown",
   "metadata": {
    "colab_type": "text",
    "id": "84QFoqGYeXHL"
   },
   "source": [
    "### Predicting the result of a single observation"
   ]
  },
  {
   "cell_type": "markdown",
   "metadata": {
    "colab_type": "text",
    "id": "CGRo3eacgDdC"
   },
   "source": [
    "**Homework**\n",
    "\n",
    "Use our ANN model to predict if the customer with the following informations will leave the bank: \n",
    "\n",
    "Geography: France\n",
    "\n",
    "Credit Score: 600\n",
    "\n",
    "Gender: Male\n",
    "\n",
    "Age: 40 years old\n",
    "\n",
    "Tenure: 3 years\n",
    "\n",
    "Balance: \\$ 60000\n",
    "\n",
    "Number of Products: 2\n",
    "\n",
    "Does this customer have a credit card ? Yes\n",
    "\n",
    "Is this customer an Active Member: Yes\n",
    "\n",
    "Estimated Salary: \\$ 50000\n",
    "\n",
    "So, should we say goodbye to that customer ?"
   ]
  },
  {
   "cell_type": "markdown",
   "metadata": {
    "colab_type": "text",
    "id": "ZhU1LTgPg-kH"
   },
   "source": [
    "**Solution**"
   ]
  },
  {
   "cell_type": "code",
   "execution_count": 58,
   "metadata": {
    "ExecuteTime": {
     "end_time": "2020-09-07T23:39:03.844433Z",
     "start_time": "2020-09-07T23:39:03.771284Z"
    }
   },
   "outputs": [
    {
     "data": {
      "text/plain": [
       "array([[0.11754335]], dtype=float32)"
      ]
     },
     "execution_count": 58,
     "metadata": {},
     "output_type": "execute_result"
    }
   ],
   "source": [
    "ann.predict(sc.transform([[1,0,1,600,1,40,3,60000,2,1,1,50000]]))"
   ]
  },
  {
   "cell_type": "markdown",
   "metadata": {
    "colab_type": "text",
    "id": "wGjx94g2n7OV"
   },
   "source": [
    "Therefore, our ANN model predicts that this customer stays in the bank!\n",
    "\n",
    "**Important note 1:** Notice that the values of the features were all input in a double pair of square brackets. That's because the \"predict\" method always expects a 2D array as the format of its inputs. And putting our values into a double pair of square brackets makes the input exactly a 2D array.\n",
    "\n",
    "**Important note 2:** Notice also that the \"France\" country was not input as a string in the last column but as \"1, 0, 0\" in the first three columns. That's because of course the predict method expects the one-hot-encoded values of the state, and as we see in the first row of the matrix of features X, \"France\" was encoded as \"1, 0, 0\". And be careful to include these values in the first three columns, because the dummy variables are always created in the first columns."
   ]
  },
  {
   "cell_type": "markdown",
   "metadata": {
    "colab_type": "text",
    "id": "u7yx47jPZt11"
   },
   "source": [
    "### Predicting the Test set results"
   ]
  },
  {
   "cell_type": "code",
   "execution_count": 64,
   "metadata": {
    "ExecuteTime": {
     "end_time": "2020-09-07T23:43:16.021265Z",
     "start_time": "2020-09-07T23:43:15.905388Z"
    }
   },
   "outputs": [],
   "source": [
    "y_pred = ann.predict(x_test_scaled)\n",
    "y_pred = (y_pred > .5)"
   ]
  },
  {
   "cell_type": "markdown",
   "metadata": {
    "colab_type": "text",
    "id": "o0oyfLWoaEGw"
   },
   "source": [
    "### Making the Confusion Matrix"
   ]
  },
  {
   "cell_type": "code",
   "execution_count": 67,
   "metadata": {
    "ExecuteTime": {
     "end_time": "2020-09-07T23:44:15.286461Z",
     "start_time": "2020-09-07T23:44:15.275114Z"
    }
   },
   "outputs": [
    {
     "data": {
      "text/plain": [
       "0.866"
      ]
     },
     "execution_count": 67,
     "metadata": {},
     "output_type": "execute_result"
    }
   ],
   "source": [
    "from sklearn.metrics import confusion_matrix, accuracy_score\n",
    "confusion_matrix(y_test, y_pred)\n",
    "priaccuracy_score(y_test, y_pred)"
   ]
  },
  {
   "cell_type": "code",
   "execution_count": null,
   "metadata": {},
   "outputs": [],
   "source": []
  }
 ],
 "metadata": {
  "colab": {
   "collapsed_sections": [],
   "name": "artificial_neural_network.ipynb",
   "provenance": [],
   "toc_visible": true
  },
  "kernelspec": {
   "display_name": "Python 3",
   "language": "python",
   "name": "python3"
  },
  "language_info": {
   "codemirror_mode": {
    "name": "ipython",
    "version": 3
   },
   "file_extension": ".py",
   "mimetype": "text/x-python",
   "name": "python",
   "nbconvert_exporter": "python",
   "pygments_lexer": "ipython3",
   "version": "3.6.10"
  },
  "toc": {
   "base_numbering": 1,
   "nav_menu": {},
   "number_sections": true,
   "sideBar": true,
   "skip_h1_title": false,
   "title_cell": "Table of Contents",
   "title_sidebar": "Contents",
   "toc_cell": true,
   "toc_position": {},
   "toc_section_display": true,
   "toc_window_display": true
  }
 },
 "nbformat": 4,
 "nbformat_minor": 1
}
