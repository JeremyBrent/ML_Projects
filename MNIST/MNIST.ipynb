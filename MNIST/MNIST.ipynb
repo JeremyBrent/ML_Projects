{
 "cells": [
  {
   "cell_type": "code",
   "execution_count": 1,
   "metadata": {
    "ExecuteTime": {
     "end_time": "2020-05-05T03:06:32.824201Z",
     "start_time": "2020-05-05T03:06:30.035107Z"
    }
   },
   "outputs": [],
   "source": [
    "import numpy as np\n",
    "import tensorflow.compat.v2 as tf\n",
    "import tensorflow_datasets as tfds\n"
   ]
  },
  {
   "cell_type": "markdown",
   "metadata": {},
   "source": [
    "# Data"
   ]
  },
  {
   "cell_type": "code",
   "execution_count": 2,
   "metadata": {
    "ExecuteTime": {
     "end_time": "2020-05-05T03:06:33.192856Z",
     "start_time": "2020-05-05T03:06:32.825741Z"
    }
   },
   "outputs": [],
   "source": [
    "mnist_dataset, mnist_info = tfds.load(name=\"mnist\",with_info = True, as_supervised = True)"
   ]
  },
  {
   "cell_type": "code",
   "execution_count": 3,
   "metadata": {
    "ExecuteTime": {
     "end_time": "2020-05-05T03:06:33.197852Z",
     "start_time": "2020-05-05T03:06:33.195415Z"
    }
   },
   "outputs": [],
   "source": [
    "mnist_train, mnist_test = mnist_dataset[\"train\"], mnist_dataset[\"test\"]"
   ]
  },
  {
   "cell_type": "code",
   "execution_count": 4,
   "metadata": {
    "ExecuteTime": {
     "end_time": "2020-05-05T03:06:33.204441Z",
     "start_time": "2020-05-05T03:06:33.199868Z"
    }
   },
   "outputs": [],
   "source": [
    "num_validation_samples = .1 * mnist_info.splits['train'].num_examples\n",
    "num_validation_samples = tf.cast(num_validation_samples, tf.int64)\n",
    "\n",
    "num_test_samples = mnist_info.splits[\"test\"].num_examples\n",
    "num_test_samples = tf.cast(num_test_samples, tf.int64)"
   ]
  },
  {
   "cell_type": "code",
   "execution_count": 5,
   "metadata": {
    "ExecuteTime": {
     "end_time": "2020-05-05T03:06:33.209381Z",
     "start_time": "2020-05-05T03:06:33.206186Z"
    }
   },
   "outputs": [],
   "source": [
    "def scale(image, label):\n",
    "    image = tf.cast(image, tf.float32)\n",
    "    image /= 255.\n",
    "    return image, label"
   ]
  },
  {
   "cell_type": "code",
   "execution_count": 6,
   "metadata": {
    "ExecuteTime": {
     "end_time": "2020-05-05T03:06:33.283380Z",
     "start_time": "2020-05-05T03:06:33.211208Z"
    }
   },
   "outputs": [],
   "source": [
    "scaled_mnist_train_validation_data = mnist_train.map(scale)\n",
    "scaled_test_data = mnist_test.map(scale)"
   ]
  },
  {
   "cell_type": "code",
   "execution_count": 7,
   "metadata": {
    "ExecuteTime": {
     "end_time": "2020-05-05T03:06:33.289793Z",
     "start_time": "2020-05-05T03:06:33.285476Z"
    }
   },
   "outputs": [],
   "source": [
    "buffer_size = 10000\n",
    "\n",
    "shuffled_train_validation_data = scaled_mnist_train_validation_data.shuffle(buffer_size)\n",
    "\n",
    "validation_data = shuffled_train_validation_data.take(num_validation_samples)\n",
    "train_data = shuffled_train_validation_data.skip(num_validation_samples)\n",
    "\n",
    "#Hyperparamter that can be changed\n",
    "batch_size = 100"
   ]
  },
  {
   "cell_type": "code",
   "execution_count": 8,
   "metadata": {
    "ExecuteTime": {
     "end_time": "2020-05-05T03:06:38.579818Z",
     "start_time": "2020-05-05T03:06:33.292767Z"
    }
   },
   "outputs": [],
   "source": [
    "train_data = train_data.batch(batch_size)\n",
    "validation_data = validation_data.batch(num_validation_samples)\n",
    "test_data = scaled_test_data.batch(num_test_samples)\n",
    "\n",
    "validation_input, validation_target = next(iter(validation_data))"
   ]
  },
  {
   "cell_type": "markdown",
   "metadata": {},
   "source": [
    "# Model \n"
   ]
  },
  {
   "cell_type": "code",
   "execution_count": 12,
   "metadata": {
    "ExecuteTime": {
     "end_time": "2020-05-05T03:11:12.118934Z",
     "start_time": "2020-05-05T03:11:12.022543Z"
    }
   },
   "outputs": [],
   "source": [
    "input_size = 784\n",
    "output_size = 10\n",
    "hidden_layer_size = 100\n",
    "\n",
    "model = tf.keras.Sequential([\n",
    "                    tf.keras.layers.Flatten(input_shape=(28,28,1)),\n",
    "                    tf.keras.layers.Dense(hidden_layer_size, activation='relu'),\n",
    "                    tf.keras.layers.Dense(hidden_layer_size, activation='relu'),\n",
    "                    tf.keras.layers.Dense(hidden_layer_size, activation='relu'),\n",
    "                    tf.keras.layers.Dense(hidden_layer_size, activation='relu'),\n",
    "                    tf.keras.layers.Dense(hidden_layer_size, activation='relu'),\n",
    "                    tf.keras.layers.Dense(output_size,activation = 'softmax')   \n",
    "        ])"
   ]
  },
  {
   "cell_type": "markdown",
   "metadata": {},
   "source": [
    "# Optimizer algorithm and objective function "
   ]
  },
  {
   "cell_type": "code",
   "execution_count": 13,
   "metadata": {
    "ExecuteTime": {
     "end_time": "2020-05-05T03:11:13.154825Z",
     "start_time": "2020-05-05T03:11:13.113892Z"
    }
   },
   "outputs": [],
   "source": [
    "#Optimizer and loss function\n",
    "model.compile(optimizer='adam',loss = 'sparse_categorical_crossentropy',metrics=['accuracy'])"
   ]
  },
  {
   "cell_type": "markdown",
   "metadata": {},
   "source": [
    "# Training\n"
   ]
  },
  {
   "cell_type": "code",
   "execution_count": 15,
   "metadata": {
    "ExecuteTime": {
     "end_time": "2020-05-05T03:15:17.972619Z",
     "start_time": "2020-05-05T03:12:51.425624Z"
    }
   },
   "outputs": [
    {
     "name": "stdout",
     "output_type": "stream",
     "text": [
      "Epoch 1/10\n",
      "540/540 - 13s - loss: 0.0520 - accuracy: 0.9840 - val_loss: 0.0000e+00 - val_accuracy: 0.0000e+00\n",
      "Epoch 2/10\n",
      "540/540 - 14s - loss: 0.0459 - accuracy: 0.9853 - val_loss: 0.0496 - val_accuracy: 0.9848\n",
      "Epoch 3/10\n",
      "540/540 - 15s - loss: 0.0380 - accuracy: 0.9879 - val_loss: 0.0475 - val_accuracy: 0.9860\n",
      "Epoch 4/10\n",
      "540/540 - 15s - loss: 0.0345 - accuracy: 0.9885 - val_loss: 0.0443 - val_accuracy: 0.9862\n",
      "Epoch 5/10\n",
      "540/540 - 15s - loss: 0.0307 - accuracy: 0.9901 - val_loss: 0.0539 - val_accuracy: 0.9848\n",
      "Epoch 6/10\n",
      "540/540 - 15s - loss: 0.0309 - accuracy: 0.9899 - val_loss: 0.0548 - val_accuracy: 0.9832\n",
      "Epoch 7/10\n",
      "540/540 - 15s - loss: 0.0261 - accuracy: 0.9921 - val_loss: 0.0385 - val_accuracy: 0.9865\n",
      "Epoch 8/10\n",
      "540/540 - 15s - loss: 0.0268 - accuracy: 0.9913 - val_loss: 0.0292 - val_accuracy: 0.9893\n",
      "Epoch 9/10\n",
      "540/540 - 15s - loss: 0.0231 - accuracy: 0.9927 - val_loss: 0.0370 - val_accuracy: 0.9887\n",
      "Epoch 10/10\n",
      "540/540 - 15s - loss: 0.0212 - accuracy: 0.9932 - val_loss: 0.0281 - val_accuracy: 0.9903\n"
     ]
    },
    {
     "data": {
      "text/plain": [
       "<tensorflow.python.keras.callbacks.History at 0x6885a1b70>"
      ]
     },
     "execution_count": 15,
     "metadata": {},
     "output_type": "execute_result"
    }
   ],
   "source": [
    "epochs = 10\n",
    "\n",
    "model.fit(train_data,epochs=epochs,validation_data=(validation_input,validation_target),validation_steps=10,verbose=2)"
   ]
  },
  {
   "cell_type": "markdown",
   "metadata": {
    "ExecuteTime": {
     "end_time": "2020-05-05T03:15:37.512918Z",
     "start_time": "2020-05-05T03:15:37.510888Z"
    }
   },
   "source": [
    "# Testing"
   ]
  },
  {
   "cell_type": "code",
   "execution_count": 19,
   "metadata": {
    "ExecuteTime": {
     "end_time": "2020-05-05T03:20:06.409971Z",
     "start_time": "2020-05-05T03:20:04.813361Z"
    }
   },
   "outputs": [
    {
     "name": "stdout",
     "output_type": "stream",
     "text": [
      "1/1 [==============================] - 1s 1s/step - loss: 0.1052 - accuracy: 0.9768\n",
      "Test Loss: 0.10524673014879227, Test Accuracy: 97.680002450943%\n"
     ]
    }
   ],
   "source": [
    "test_loss, test_accuracy = model.evaluate(test_data)\n",
    "\n",
    "print(f'Test Loss: {test_loss}, Test Accuracy: {100*test_accuracy}%')"
   ]
  },
  {
   "cell_type": "code",
   "execution_count": null,
   "metadata": {},
   "outputs": [],
   "source": []
  }
 ],
 "metadata": {
  "kernelspec": {
   "display_name": "Python 3",
   "language": "python",
   "name": "python3"
  },
  "language_info": {
   "codemirror_mode": {
    "name": "ipython",
    "version": 3
   },
   "file_extension": ".py",
   "mimetype": "text/x-python",
   "name": "python",
   "nbconvert_exporter": "python",
   "pygments_lexer": "ipython3",
   "version": "3.6.10"
  }
 },
 "nbformat": 4,
 "nbformat_minor": 4
}
