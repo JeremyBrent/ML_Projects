{
 "cells": [
  {
   "cell_type": "markdown",
   "metadata": {
    "toc": true
   },
   "source": [
    "<h1>Table of Contents<span class=\"tocSkip\"></span></h1>\n",
    "<div class=\"toc\"><ul class=\"toc-item\"><li><span><a href=\"#Preprocessing\" data-toc-modified-id=\"Preprocessing-1\"><span class=\"toc-item-num\">1&nbsp;&nbsp;</span>Preprocessing</a></span><ul class=\"toc-item\"><li><ul class=\"toc-item\"><li><span><a href=\"#Shuffling-the-data\" data-toc-modified-id=\"Shuffling-the-data-1.0.1\"><span class=\"toc-item-num\">1.0.1&nbsp;&nbsp;</span>Shuffling the data</a></span></li><li><span><a href=\"#Balancing-the-dataset\" data-toc-modified-id=\"Balancing-the-dataset-1.0.2\"><span class=\"toc-item-num\">1.0.2&nbsp;&nbsp;</span>Balancing the dataset</a></span></li><li><span><a href=\"#Shuffling-the-dataset\" data-toc-modified-id=\"Shuffling-the-dataset-1.0.3\"><span class=\"toc-item-num\">1.0.3&nbsp;&nbsp;</span>Shuffling the dataset</a></span></li><li><span><a href=\"#Standardizing-Inputs\" data-toc-modified-id=\"Standardizing-Inputs-1.0.4\"><span class=\"toc-item-num\">1.0.4&nbsp;&nbsp;</span>Standardizing Inputs</a></span></li><li><span><a href=\"#Splitting-data-into-train,-validation,-and-test-sets\" data-toc-modified-id=\"Splitting-data-into-train,-validation,-and-test-sets-1.0.5\"><span class=\"toc-item-num\">1.0.5&nbsp;&nbsp;</span>Splitting data into train, validation, and test sets</a></span></li></ul></li></ul></li></ul></div>"
   ]
  },
  {
   "cell_type": "code",
   "execution_count": 75,
   "metadata": {
    "ExecuteTime": {
     "end_time": "2020-05-18T22:12:36.002278Z",
     "start_time": "2020-05-18T22:12:36.000271Z"
    }
   },
   "outputs": [],
   "source": [
    "# This preprocessing can be used for any ML classification problem with two targets.\n",
    "# If a future problem has more then 2 targets, we must balance the dataset differently"
   ]
  },
  {
   "cell_type": "code",
   "execution_count": 1,
   "metadata": {
    "ExecuteTime": {
     "end_time": "2020-09-20T01:46:40.149549Z",
     "start_time": "2020-09-20T01:46:39.033223Z"
    }
   },
   "outputs": [],
   "source": [
    "#Dependencies\n",
    "import numpy as np \n",
    "# sklearn capabilities for standardizing inputs\n",
    "from sklearn import preprocessing \n",
    "\n",
    "import pandas as pd"
   ]
  },
  {
   "cell_type": "markdown",
   "metadata": {},
   "source": [
    "# Preprocessing\n"
   ]
  },
  {
   "cell_type": "code",
   "execution_count": 4,
   "metadata": {
    "ExecuteTime": {
     "end_time": "2020-09-20T01:46:51.280126Z",
     "start_time": "2020-09-20T01:46:51.130389Z"
    }
   },
   "outputs": [],
   "source": [
    "#load csv with numpy \n",
    "raw_csv_data = np.loadtxt('Data/original.csv',delimiter=',')\n",
    "#removing id and targets and storing inputs\n",
    "unscaled_inputs = raw_csv_data[:,1:-1]\n",
    "#storing targets, targets is a tensor rank 1, or a vector\n",
    "targets = raw_csv_data[:,-1]\n"
   ]
  },
  {
   "cell_type": "markdown",
   "metadata": {},
   "source": [
    "### Shuffling the data"
   ]
  },
  {
   "cell_type": "code",
   "execution_count": 78,
   "metadata": {
    "ExecuteTime": {
     "end_time": "2020-05-18T22:12:36.889416Z",
     "start_time": "2020-05-18T22:12:36.884918Z"
    }
   },
   "outputs": [],
   "source": [
    "# Data must be shuffled because we are batching\n",
    "# For example, if our data was collected and ordered based on date, third variables\n",
    "# that would affect behavior like promotions, day of the week effect, etc could create \n",
    "# homogenous batches that would confuse our ml algorithm\n",
    "shuffled_indicies = np.arange(unscaled_inputs.shape[0])\n",
    "np.random.shuffle(shuffled_indicies)\n",
    "\n",
    "shuffled_inputs = unscaled_inputs[shuffled_indicies]\n",
    "shuffled_targets = targets[shuffled_indicies]"
   ]
  },
  {
   "cell_type": "markdown",
   "metadata": {
    "ExecuteTime": {
     "end_time": "2020-05-18T19:27:36.024809Z",
     "start_time": "2020-05-18T19:27:35.987207Z"
    }
   },
   "source": [
    "### Balancing the dataset"
   ]
  },
  {
   "cell_type": "code",
   "execution_count": 79,
   "metadata": {
    "ExecuteTime": {
     "end_time": "2020-05-18T22:12:37.241555Z",
     "start_time": "2020-05-18T22:12:37.225733Z"
    }
   },
   "outputs": [],
   "source": [
    "# Determing how many '1' (convert) targets there are \n",
    "one_targets = int(np.sum(shuffled_targets))\n",
    "# Creating counter for '0' (not-converted) targets\n",
    "zero_targets_counter = 0\n",
    "# indices to remove\n",
    "indicies_to_remove = []\n",
    "\n",
    "for i in range(shuffled_targets.shape[0]):\n",
    "    if shuffled_targets[i] == 0:\n",
    "        zero_targets_counter += 1\n",
    "        if zero_targets_counter > one_targets:\n",
    "            indicies_to_remove.append(i)\n",
    "            \n",
    "unscaled_inputs_equal_priors = np.delete(shuffled_inputs,indicies_to_remove,axis=0)\n",
    "targets_equal_priors = np.delete(shuffled_targets,indicies_to_remove,axis=0)"
   ]
  },
  {
   "cell_type": "code",
   "execution_count": 80,
   "metadata": {
    "ExecuteTime": {
     "end_time": "2020-05-18T22:12:37.405130Z",
     "start_time": "2020-05-18T22:12:37.402027Z"
    }
   },
   "outputs": [
    {
     "name": "stdout",
     "output_type": "stream",
     "text": [
      "Our original dataset had 14084 inputs and 14084 targets\n",
      "When we balanced our priors, we have 4474 inputs and 4474 targets\n"
     ]
    }
   ],
   "source": [
    "print(f'Our original dataset had {shuffled_inputs.shape[0]} inputs and {shuffled_targets.shape[0]} targets')\n",
    "print(f'When we balanced our priors, we have {unscaled_inputs_equal_priors.shape[0]} inputs and {targets_equal_priors.shape[0]} targets')\n",
    "\n"
   ]
  },
  {
   "cell_type": "markdown",
   "metadata": {},
   "source": [
    "### Shuffling the dataset"
   ]
  },
  {
   "cell_type": "code",
   "execution_count": 81,
   "metadata": {
    "ExecuteTime": {
     "end_time": "2020-05-18T22:12:37.781140Z",
     "start_time": "2020-05-18T22:12:37.777338Z"
    }
   },
   "outputs": [],
   "source": [
    "# We must shuffle the targets and inputs again after balancing the dataset so priors are even (same amnt of\n",
    "# 1's and 0's) because otherwise all of the target 1's will be placed in train dataset\n",
    "shuffled_indicies = np.arange(unscaled_inputs_equal_priors.shape[0])\n",
    "np.random.shuffle(shuffled_indicies)\n",
    "\n",
    "shuffled_inputs = unscaled_inputs_equal_priors[shuffled_indicies]\n",
    "shuffled_targets = targets_equal_priors[shuffled_indicies]"
   ]
  },
  {
   "cell_type": "markdown",
   "metadata": {},
   "source": [
    "### Standardizing Inputs"
   ]
  },
  {
   "cell_type": "code",
   "execution_count": 82,
   "metadata": {
    "ExecuteTime": {
     "end_time": "2020-05-18T22:12:38.131888Z",
     "start_time": "2020-05-18T22:12:38.126329Z"
    }
   },
   "outputs": [],
   "source": [
    "#Using sklearn preprocessing and scale methods to standardize the inputs \n",
    "scaled_inputs = preprocessing.scale(unscaled_inputs_equal_priors)"
   ]
  },
  {
   "cell_type": "markdown",
   "metadata": {
    "ExecuteTime": {
     "end_time": "2020-05-18T19:56:54.868115Z",
     "start_time": "2020-05-18T19:56:54.863909Z"
    }
   },
   "source": [
    "### Splitting data into train, validation, and test sets"
   ]
  },
  {
   "cell_type": "code",
   "execution_count": 83,
   "metadata": {
    "ExecuteTime": {
     "end_time": "2020-05-18T22:12:38.681856Z",
     "start_time": "2020-05-18T22:12:38.678692Z"
    }
   },
   "outputs": [],
   "source": [
    "sample_count = scaled_inputs.shape[0]\n",
    "\n",
    "# Using 80, 10, 10 split for train, validations, test\n",
    "train_samples_count = int(sample_count * .8)\n",
    "validation_samples_count = int(sample_count * .1)\n",
    "test_samples_count = sample_count - (train_samples_count + validation_samples_count)"
   ]
  },
  {
   "cell_type": "code",
   "execution_count": 84,
   "metadata": {
    "ExecuteTime": {
     "end_time": "2020-05-18T22:12:39.387544Z",
     "start_time": "2020-05-18T22:12:39.384120Z"
    }
   },
   "outputs": [],
   "source": [
    "train_inputs = shuffled_inputs[:train_samples_count]\n",
    "train_targets = shuffled_targets[:train_samples_count]\n",
    " \n",
    "validation_inputs = shuffled_inputs[train_samples_count:train_samples_count+validation_samples_count]\n",
    "validation_targets = shuffled_targets[train_samples_count:train_samples_count+validation_samples_count]\n",
    "\n",
    "test_inputs = shuffled_inputs[train_samples_count + validation_samples_count:]\n",
    "test_targets = shuffled_targets[train_samples_count + validation_samples_count:]\n"
   ]
  },
  {
   "cell_type": "code",
   "execution_count": 85,
   "metadata": {
    "ExecuteTime": {
     "end_time": "2020-05-18T22:12:40.340403Z",
     "start_time": "2020-05-18T22:12:40.335776Z"
    }
   },
   "outputs": [
    {
     "name": "stdout",
     "output_type": "stream",
     "text": [
      "Our final training dataset consists of 1783.0 converts with a length of 3579 customers and a ratio of 0.4981838502374965 converts to non-converts\n",
      "-----------------------------\n",
      "Our final validation dataset consists of 232.0 converts with a length of 447 customers and a ratio of 0.5190156599552572 converts to non-converts\n",
      "-----------------------------\n",
      "Our final testing dataset consists of 222.0 converts with a length of 448 customers and a ratio of 0.4955357142857143 converts to non-converts\n"
     ]
    }
   ],
   "source": [
    "# Checking to see if I balanced the dataset\n",
    "\n",
    "print(f'Our final training dataset consists of {np.sum(train_targets)} converts with a length of {train_samples_count} customers and a ratio of {np.sum(train_targets)/train_samples_count} converts to non-converts')\n",
    "print('-----------------------------')\n",
    "print(f'Our final validation dataset consists of {np.sum(validation_targets)} converts with a length of {validation_samples_count} customers and a ratio of {np.sum(validation_targets)/validation_samples_count} converts to non-converts')\n",
    "print(\"-----------------------------\")\n",
    "print(f'Our final testing dataset consists of {np.sum(test_targets)} converts with a length of {test_samples_count} customers and a ratio of {np.sum(test_targets)/test_samples_count} converts to non-converts')\n",
    "\n",
    "\n"
   ]
  },
  {
   "cell_type": "code",
   "execution_count": 87,
   "metadata": {
    "ExecuteTime": {
     "end_time": "2020-05-18T22:15:19.370579Z",
     "start_time": "2020-05-18T22:15:19.363828Z"
    }
   },
   "outputs": [],
   "source": [
    "np.savez(\"Data/Audiobooks_data_train\",inputs=train_inputs,targets=train_targets)\n",
    "np.savez(\"Data/Audiobooks_data_validation\",inputs=validation_inputs,targets=validation_targets)\n",
    "np.savez(\"Data/Audiobooks_data_test\",inputs=test_inputs,targets=test_targets)\n"
   ]
  },
  {
   "cell_type": "code",
   "execution_count": null,
   "metadata": {},
   "outputs": [],
   "source": []
  },
  {
   "cell_type": "code",
   "execution_count": null,
   "metadata": {},
   "outputs": [],
   "source": []
  }
 ],
 "metadata": {
  "kernelspec": {
   "display_name": "Python 3.6.10 64-bit ('PythonData2020_1': conda)",
   "language": "python",
   "name": "python361064bitpythondata20201conda4483446da3a149c49ccb50a5c828d3b3"
  },
  "language_info": {
   "codemirror_mode": {
    "name": "ipython",
    "version": 3
   },
   "file_extension": ".py",
   "mimetype": "text/x-python",
   "name": "python",
   "nbconvert_exporter": "python",
   "pygments_lexer": "ipython3",
   "version": "3.6.10"
  },
  "toc": {
   "base_numbering": 1,
   "nav_menu": {},
   "number_sections": true,
   "sideBar": true,
   "skip_h1_title": false,
   "title_cell": "Table of Contents",
   "title_sidebar": "Contents",
   "toc_cell": true,
   "toc_position": {},
   "toc_section_display": true,
   "toc_window_display": true
  }
 },
 "nbformat": 4,
 "nbformat_minor": 4
}
