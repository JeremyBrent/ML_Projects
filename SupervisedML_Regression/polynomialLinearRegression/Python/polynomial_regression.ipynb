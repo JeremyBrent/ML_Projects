{
 "cells": [
  {
   "cell_type": "markdown",
   "metadata": {
    "colab_type": "text",
    "id": "vN99YjPTDena"
   },
   "source": [
    "# Polynomial Regression"
   ]
  },
  {
   "cell_type": "markdown",
   "metadata": {
    "colab_type": "text",
    "id": "ZIx_naXnDyHd"
   },
   "source": [
    "## Importing the libraries"
   ]
  },
  {
   "cell_type": "code",
   "execution_count": 61,
   "metadata": {
    "ExecuteTime": {
     "end_time": "2020-06-12T21:25:08.299131Z",
     "start_time": "2020-06-12T21:25:08.296010Z"
    }
   },
   "outputs": [],
   "source": [
    "import pandas as pd \n",
    "import numpy as np\n",
    "import matplotlib.pyplot as plt\n",
    "from sklearn.metrics import mean_squared_error, r2_score"
   ]
  },
  {
   "cell_type": "markdown",
   "metadata": {
    "colab_type": "text",
    "id": "6c8YExmOD5x5"
   },
   "source": [
    "## Importing the dataset"
   ]
  },
  {
   "cell_type": "code",
   "execution_count": 13,
   "metadata": {
    "ExecuteTime": {
     "end_time": "2020-06-12T20:56:18.702565Z",
     "start_time": "2020-06-12T20:56:18.693212Z"
    }
   },
   "outputs": [],
   "source": [
    "data = pd.read_csv(\"Position_Salaries.csv\")\n",
    "inputs = data.iloc[:,1:-1].values\n",
    "targets = data.iloc[:,-1].values"
   ]
  },
  {
   "cell_type": "markdown",
   "metadata": {},
   "source": [
    "We are not splitting the data into test and train sets because we do not have enough data. We also are not encoding the first column because the second column does that for us. \n"
   ]
  },
  {
   "cell_type": "markdown",
   "metadata": {
    "colab_type": "text",
    "id": "Le8SEL-YEOLb"
   },
   "source": [
    "## Training the Linear Regression model on the whole dataset"
   ]
  },
  {
   "cell_type": "code",
   "execution_count": 14,
   "metadata": {
    "ExecuteTime": {
     "end_time": "2020-06-12T20:56:19.786270Z",
     "start_time": "2020-06-12T20:56:19.781570Z"
    }
   },
   "outputs": [
    {
     "data": {
      "text/plain": [
       "LinearRegression(copy_X=True, fit_intercept=True, n_jobs=None, normalize=False)"
      ]
     },
     "execution_count": 14,
     "metadata": {},
     "output_type": "execute_result"
    }
   ],
   "source": [
    "from sklearn.linear_model import LinearRegression\n",
    "linRegressor = LinearRegression()\n",
    "linRegressor.fit(inputs,targets)"
   ]
  },
  {
   "cell_type": "markdown",
   "metadata": {
    "colab_type": "text",
    "id": "Rb5nWuSHEfBV"
   },
   "source": [
    "## Training the Polynomial Regression model on the whole dataset"
   ]
  },
  {
   "cell_type": "code",
   "execution_count": 42,
   "metadata": {
    "ExecuteTime": {
     "end_time": "2020-06-12T21:16:10.358186Z",
     "start_time": "2020-06-12T21:16:10.352334Z"
    }
   },
   "outputs": [
    {
     "data": {
      "text/plain": [
       "LinearRegression(copy_X=True, fit_intercept=True, n_jobs=None, normalize=False)"
      ]
     },
     "execution_count": 42,
     "metadata": {},
     "output_type": "execute_result"
    }
   ],
   "source": [
    "from sklearn.preprocessing import PolynomialFeatures\n",
    "polyReg = PolynomialFeatures(degree = 4)\n",
    "polyInputs = polyReg.fit_transform(inputs)\n",
    "linReg2 = LinearRegression()\n",
    "linReg2.fit(polyInputs,targets)"
   ]
  },
  {
   "cell_type": "markdown",
   "metadata": {
    "colab_type": "text",
    "id": "0O8R0tzbEpvy"
   },
   "source": [
    "## Visualising the Linear Regression results"
   ]
  },
  {
   "cell_type": "code",
   "execution_count": 29,
   "metadata": {
    "ExecuteTime": {
     "end_time": "2020-06-12T21:10:03.379651Z",
     "start_time": "2020-06-12T21:10:03.240651Z"
    },
    "scrolled": true
   },
   "outputs": [
    {
     "data": {
      "image/png": "[encoded data removed]",
      "text/plain": [
       "<Figure size 432x288 with 1 Axes>"
      ]
     },
     "metadata": {
      "needs_background": "light"
     },
     "output_type": "display_data"
    }
   ],
   "source": [
    "plt.scatter(inputs,targets, color = 'red')\n",
    "plt.plot(inputs,linRegressor.predict(inputs),color='blue')\n",
    "plt.title(\"Positive vs Salary Linear Regression\")\n",
    "plt.xlabel(\"Position Level\")\n",
    "plt.ylabel(\"Salary ($)\")\n",
    "plt.show()"
   ]
  },
  {
   "cell_type": "markdown",
   "metadata": {},
   "source": [
    "## Measuring Performance of Simple Linear Regression"
   ]
  },
  {
   "cell_type": "code",
   "execution_count": 74,
   "metadata": {
    "ExecuteTime": {
     "end_time": "2020-06-12T21:32:11.914603Z",
     "start_time": "2020-06-12T21:32:11.909176Z"
    }
   },
   "outputs": [
    {
     "name": "stdout",
     "output_type": "stream",
     "text": [
      "The model performance for the Simple Linear Regression\n",
      "-------------------------------------------\n",
      "RMSE of Simple Linear Regression is 163388.74\n",
      "R2 score of training set is 0.669\n"
     ]
    }
   ],
   "source": [
    "rmse = round(np.sqrt(mean_squared_error(targets, linRegressor.predict(inputs))),2)\n",
    "r2 = round(r2_score(targets, linRegressor.predict(inputs)),4)\n",
    "print(\"The model performance for the Simple Linear Regression\")\n",
    "print(\"-------------------------------------------\")\n",
    "print(f\"RMSE of Simple Linear Regression is {rmse}\")\n",
    "print(f\"R2 score of training set is {r2}\")\n"
   ]
  },
  {
   "cell_type": "markdown",
   "metadata": {
    "colab_type": "text",
    "id": "stOnSo74E52m"
   },
   "source": [
    "## Visualising the Polynomial Regression results"
   ]
  },
  {
   "cell_type": "code",
   "execution_count": 43,
   "metadata": {
    "ExecuteTime": {
     "end_time": "2020-06-12T21:16:12.489106Z",
     "start_time": "2020-06-12T21:16:12.348816Z"
    }
   },
   "outputs": [
    {
     "data": {
      "image/png": "[encoded data removed]",
      "text/plain": [
       "<Figure size 432x288 with 1 Axes>"
      ]
     },
     "metadata": {
      "needs_background": "light"
     },
     "output_type": "display_data"
    }
   ],
   "source": [
    "## Overfit but it is okay because we want the exact prediction for \n",
    "## position 6.5 for the probl\n",
    "plt.scatter(inputs,targets, color = 'red')\n",
    "plt.plot(inputs,linReg2.predict(polyInputs),color='blue')\n",
    "plt.title(\"Positive vs Salary Linear Regression\")\n",
    "plt.xlabel(\"Position Level\")\n",
    "plt.ylabel(\"Salary ($)\")\n",
    "plt.show()"
   ]
  },
  {
   "cell_type": "markdown",
   "metadata": {
    "colab_type": "text",
    "id": "U_qsAMKnE-PJ"
   },
   "source": [
    "## Visualising the Polynomial Regression results (for higher resolution and smoother curve)"
   ]
  },
  {
   "cell_type": "code",
   "execution_count": 50,
   "metadata": {
    "ExecuteTime": {
     "end_time": "2020-06-12T21:20:35.176624Z",
     "start_time": "2020-06-12T21:20:35.048877Z"
    }
   },
   "outputs": [
    {
     "data": {
      "image/png": "[encoded data removed]",
      "text/plain": [
       "<Figure size 432x288 with 1 Axes>"
      ]
     },
     "metadata": {
      "needs_background": "light"
     },
     "output_type": "display_data"
    }
   ],
   "source": [
    "x_grid = np.arange(min(inputs),max(inputs),.1).reshape(len(x_grid),1)\n",
    "xGridFit = polyReg.fit_transform(x_grid)\n",
    "plt.scatter(inputs,targets, color = 'red')\n",
    "plt.plot(x_grid,linReg2.predict(xGridFit),color='blue')\n",
    "plt.title(\"Positive vs Salary Linear Regression\")\n",
    "plt.xlabel(\"Position Level\")\n",
    "plt.ylabel(\"Salary ($)\")\n",
    "plt.show()"
   ]
  },
  {
   "cell_type": "markdown",
   "metadata": {},
   "source": [
    "## Measuring Performance of Polynomial Linear Regression"
   ]
  },
  {
   "cell_type": "code",
   "execution_count": 97,
   "metadata": {
    "ExecuteTime": {
     "end_time": "2020-06-12T21:37:37.005445Z",
     "start_time": "2020-06-12T21:37:37.000108Z"
    }
   },
   "outputs": [
    {
     "name": "stdout",
     "output_type": "stream",
     "text": [
      "The model performance for the Polynomial Linear Regression\n",
      "-------------------------------------------\n",
      "RMSE of Polynomial Linear Regression is 14503.23\n",
      "R2 score of training set is 0.9974\n"
     ]
    }
   ],
   "source": [
    "rmse = round(np.sqrt(mean_squared_error(targets, linReg2.predict(polyInputs))),2)\n",
    "r2 = round(r2_score(targets, linReg2.predict(polyInputs)),4)\n",
    "print(\"The model performance for the Polynomial Linear Regression\")\n",
    "print(\"-------------------------------------------\")\n",
    "print(f\"RMSE of Polynomial Linear Regression is {rmse}\")\n",
    "print(f\"R2 score of training set is {r2}\")\n"
   ]
  },
  {
   "cell_type": "markdown",
   "metadata": {
    "colab_type": "text",
    "id": "diyJFZHhFFeK"
   },
   "source": [
    "## Predicting a new result with Linear Regression"
   ]
  },
  {
   "cell_type": "code",
   "execution_count": 105,
   "metadata": {
    "ExecuteTime": {
     "end_time": "2020-06-12T21:39:10.923341Z",
     "start_time": "2020-06-12T21:39:10.920310Z"
    }
   },
   "outputs": [
    {
     "name": "stdout",
     "output_type": "stream",
     "text": [
      "Predicted salary of position 6.5 with \n",
      " Simple Linear Regression: $330378.79\n"
     ]
    }
   ],
   "source": [
    "print(f'Predicted salary of position 6.5 with \\n Simple Linear Regression: ${round(linRegressor.predict([[6.5]])[0],2)}')"
   ]
  },
  {
   "cell_type": "markdown",
   "metadata": {
    "colab_type": "text",
    "id": "DW7I7ZVDFNkk"
   },
   "source": [
    "## Predicting a new result with Polynomial Regression"
   ]
  },
  {
   "cell_type": "code",
   "execution_count": 102,
   "metadata": {
    "ExecuteTime": {
     "end_time": "2020-06-12T21:38:46.764703Z",
     "start_time": "2020-06-12T21:38:46.760968Z"
    }
   },
   "outputs": [
    {
     "name": "stdout",
     "output_type": "stream",
     "text": [
      "Predicted salary of position 6.5 with \n",
      " Polynomial Linear Regression: $158862.45\n"
     ]
    }
   ],
   "source": [
    "polyPredict = polyReg.fit_transform([[6.5]])\n",
    "print(f'Predicted salary of position 6.5 with \\n Polynomial Linear Regression: ${round(linReg2.predict(polyPredict)[0],2)}')\n"
   ]
  }
 ],
 "metadata": {
  "colab": {
   "collapsed_sections": [],
   "name": "polynomial_regression.ipynb",
   "provenance": [],
   "toc_visible": true
  },
  "kernelspec": {
   "display_name": "Python 3",
   "language": "python",
   "name": "python3"
  },
  "language_info": {
   "codemirror_mode": {
    "name": "ipython",
    "version": 3
   },
   "file_extension": ".py",
   "mimetype": "text/x-python",
   "name": "python",
   "nbconvert_exporter": "python",
   "pygments_lexer": "ipython3",
   "version": "3.6.10"
  },
  "toc": {
   "base_numbering": 1,
   "nav_menu": {},
   "number_sections": true,
   "sideBar": true,
   "skip_h1_title": false,
   "title_cell": "Table of Contents",
   "title_sidebar": "Contents",
   "toc_cell": false,
   "toc_position": {},
   "toc_section_display": true,
   "toc_window_display": false
  },
  "varInspector": {
   "cols": {
    "lenName": 16,
    "lenType": 16,
    "lenVar": 40
   },
   "kernels_config": {
    "python": {
     "delete_cmd_postfix": "",
     "delete_cmd_prefix": "del ",
     "library": "var_list.py",
     "varRefreshCmd": "print(var_dic_list())"
    },
    "r": {
     "delete_cmd_postfix": ") ",
     "delete_cmd_prefix": "rm(",
     "library": "var_list.r",
     "varRefreshCmd": "cat(var_dic_list()) "
    }
   },
   "types_to_exclude": [
    "module",
    "function",
    "builtin_function_or_method",
    "instance",
    "_Feature"
   ],
   "window_display": false
  }
 },
 "nbformat": 4,
 "nbformat_minor": 1
}
